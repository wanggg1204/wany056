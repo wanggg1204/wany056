{
 "cells": [
  {
   "cell_type": "code",
   "execution_count": 1,
   "id": "cbc7a486",
   "metadata": {
    "scrolled": true
   },
   "outputs": [
    {
     "name": "stderr",
     "output_type": "stream",
     "text": [
      "WARNING: An illegal reflective access operation has occurred\n",
      "WARNING: Illegal reflective access by org.apache.spark.unsafe.Platform (file:/home/ubuntu/spark-3.2.1-bin-hadoop2.7/jars/spark-unsafe_2.12-3.2.1.jar) to constructor java.nio.DirectByteBuffer(long,int)\n",
      "WARNING: Please consider reporting this to the maintainers of org.apache.spark.unsafe.Platform\n",
      "WARNING: Use --illegal-access=warn to enable warnings of further illegal reflective access operations\n",
      "WARNING: All illegal access operations will be denied in a future release\n",
      "Using Spark's default log4j profile: org/apache/spark/log4j-defaults.properties\n",
      "Setting default log level to \"WARN\".\n",
      "To adjust logging level use sc.setLogLevel(newLevel). For SparkR, use setLogLevel(newLevel).\n",
      "23/10/08 01:49:38 WARN NativeCodeLoader: Unable to load native-hadoop library for your platform... using builtin-java classes where applicable\n"
     ]
    }
   ],
   "source": [
    "# Must be included at the beginning of each new notebook. Remember to change the app name.\n",
    "import findspark\n",
    "findspark.init('/home/ubuntu/spark-3.2.1-bin-hadoop2.7')\n",
    "import pyspark\n",
    "from pyspark.sql import *\n",
    "spark = SparkSession.builder.appName('random_forest_classification').getOrCreate()\n",
    "\n",
    "# If you're getting an error with numpy, please type 'sudo pip install numpy --user' into the EC2 console.\n",
    "from pyspark.ml.classification import LogisticRegression"
   ]
  },
  {
   "cell_type": "code",
   "execution_count": 2,
   "id": "fc9be8b5",
   "metadata": {
    "scrolled": true
   },
   "outputs": [
    {
     "name": "stderr",
     "output_type": "stream",
     "text": [
      "                                                                                \r"
     ]
    },
    {
     "name": "stdout",
     "output_type": "stream",
     "text": [
      "+----+------+-----+-----+-----------+-------+-----+-------+------+------+------+\n",
      "| age|gender|ap_hi|ap_lo|cholesterol|glucose|smoke|alcohol|active|cardio|   BMI|\n",
      "+----+------+-----+-----+-----------+-------+-----+-------+------+------+------+\n",
      "|55.0|     1|140.0| 90.0|          1|      0|    0|      0|     1|     1|34.928|\n",
      "|52.0|     1|130.0| 70.0|          1|      0|    0|      0|     0|     1|23.508|\n",
      "|48.0|     0|150.0|100.0|          0|      0|    0|      0|     1|     1| 28.71|\n",
      "|48.0|     1|100.0| 80.0|          0|      0|    0|      0|     0|     0|23.011|\n",
      "|60.0|     1|120.0| 80.0|          1|      1|    0|      0|     0|     0|29.385|\n",
      "|62.0|     0|130.0| 90.0|          1|      1|    0|      0|     1|     1|29.984|\n",
      "|48.0|     1|110.0| 70.0|          0|      0|    0|      0|     1|     0|28.441|\n",
      "|54.0|     1|110.0| 80.0|          0|      0|    0|      0|     0|     0|25.283|\n",
      "|52.0|     0|120.0| 80.0|          0|      0|    0|      0|     1|     0|20.047|\n",
      "|54.0|     1|110.0| 70.0|          0|      0|    0|      0|     1|     0|31.245|\n",
      "|40.0|     0|130.0| 90.0|          0|      0|    1|      1|     1|     0|28.998|\n",
      "|46.0|     0|120.0| 80.0|          0|      0|    0|      0|     0|     1|24.337|\n",
      "|46.0|     1|110.0| 70.0|          0|      1|    0|      0|     1|     0| 20.83|\n",
      "|60.0|     0|120.0| 70.0|          0|      0|    1|      0|     1|     0|21.338|\n",
      "|54.0|     0|120.0| 80.0|          0|      0|    0|      0|     1|     0|31.239|\n",
      "|63.0|     1|145.0| 85.0|          1|      1|    0|      0|     1|     1|36.052|\n",
      "|64.0|     0|110.0| 80.0|          0|      0|    0|      0|     1|     0|18.491|\n",
      "|46.0|     1|150.0| 90.0|          1|      0|    0|      0|     1|     1|23.529|\n",
      "|40.0|     1|130.0|100.0|          1|      0|    0|      0|     1|     0|27.767|\n",
      "|50.0|     1|120.0| 80.0|          0|      0|    0|      0|     1|     0|30.853|\n",
      "+----+------+-----+-----+-----------+-------+-----+-------+------+------+------+\n",
      "only showing top 20 rows\n",
      "\n",
      "Number of rows: 68742\n"
     ]
    }
   ],
   "source": [
    "# Read the csv file into a DataFrame\n",
    "df = spark.read.csv('redu4.csv', header=True, inferSchema=True)\n",
    "\n",
    "# Display the content of the DataFrame\n",
    "df.show()\n",
    "\n",
    "# Get and print the number of rows in the DataFrame\n",
    "num_rows = df.count()\n",
    "print(f\"Number of rows: {num_rows}\")"
   ]
  },
  {
   "cell_type": "code",
   "execution_count": 3,
   "id": "b9971972",
   "metadata": {
    "scrolled": true
   },
   "outputs": [
    {
     "name": "stdout",
     "output_type": "stream",
     "text": [
      "root\n",
      " |-- age: double (nullable = true)\n",
      " |-- gender: integer (nullable = true)\n",
      " |-- ap_hi: double (nullable = true)\n",
      " |-- ap_lo: double (nullable = true)\n",
      " |-- cholesterol: integer (nullable = true)\n",
      " |-- glucose: integer (nullable = true)\n",
      " |-- smoke: integer (nullable = true)\n",
      " |-- alcohol: integer (nullable = true)\n",
      " |-- active: integer (nullable = true)\n",
      " |-- cardio: integer (nullable = true)\n",
      " |-- BMI: double (nullable = true)\n",
      "\n"
     ]
    }
   ],
   "source": [
    "# Use Spark to read in the Ecommerce Customers csv file. You can infer csv schemas. \n",
    "data = spark.read.csv(\"redu4.csv\",inferSchema=True,header=True)\n",
    "\n",
    "# Print the schema of the DataFrame. You can see potential features as well as the predictor.\n",
    "data.printSchema()"
   ]
  },
  {
   "cell_type": "code",
   "execution_count": 4,
   "id": "d0c9ec11",
   "metadata": {},
   "outputs": [
    {
     "name": "stderr",
     "output_type": "stream",
     "text": [
      "                                                                                \r"
     ]
    },
    {
     "name": "stdout",
     "output_type": "stream",
     "text": [
      "DTC AUC: 0.6424240033556415\n"
     ]
    },
    {
     "name": "stderr",
     "output_type": "stream",
     "text": [
      "                                                                                \r"
     ]
    },
    {
     "name": "stdout",
     "output_type": "stream",
     "text": [
      "RFC AUC: 0.7847188736369336\n"
     ]
    },
    {
     "name": "stderr",
     "output_type": "stream",
     "text": [
      "23/10/08 01:50:18 WARN InstanceBuilder$NativeBLAS: Failed to load implementation from:dev.ludovic.netlib.blas.JNIBLAS\n",
      "23/10/08 01:50:18 WARN InstanceBuilder$NativeBLAS: Failed to load implementation from:dev.ludovic.netlib.blas.ForeignLinkerBLAS\n",
      "                                                                                \r"
     ]
    },
    {
     "name": "stdout",
     "output_type": "stream",
     "text": [
      "GBT AUC: 0.7241464348081035\n"
     ]
    },
    {
     "name": "stderr",
     "output_type": "stream",
     "text": [
      "                                                                                \r"
     ]
    },
    {
     "name": "stdout",
     "output_type": "stream",
     "text": [
      "DTC Accuracy: 0.7206989766364162\n"
     ]
    },
    {
     "name": "stderr",
     "output_type": "stream",
     "text": [
      "                                                                                \r"
     ]
    },
    {
     "name": "stdout",
     "output_type": "stream",
     "text": [
      "RFC Accuracy: 0.7199266267619232\n",
      "GBT Accuracy: 0.7249951728132844\n"
     ]
    },
    {
     "name": "stderr",
     "output_type": "stream",
     "text": [
      "\r",
      "[Stage 276:>                                                        (0 + 1) / 1]\r",
      "\r",
      "                                                                                \r"
     ]
    }
   ],
   "source": [
    "# 70/30\n",
    "from pyspark.sql import SparkSession\n",
    "from pyspark.ml.feature import StringIndexer, VectorAssembler\n",
    "from pyspark.ml.classification import RandomForestClassifier, DecisionTreeClassifier, GBTClassifier\n",
    "from pyspark.ml.evaluation import BinaryClassificationEvaluator, MulticlassClassificationEvaluator\n",
    "\n",
    "# Setting up Spark Configuration\n",
    "spark = SparkSession.builder.appName('tree_methods_adv').getOrCreate()\n",
    "\n",
    "# 1. Preparation of Data\n",
    "data = spark.read.csv('redu4.csv', header=True, inferSchema=True)\n",
    "\n",
    "# 2. Label Indexing\n",
    "labelIndexer = StringIndexer(inputCol=\"cardio\", outputCol=\"indexedLabel\").fit(data)\n",
    "data = labelIndexer.transform(data)\n",
    "\n",
    "# 3. Vector Assembling\n",
    "feature_columns = ['age', 'gender', 'ap_hi', 'ap_lo', 'cholesterol', 'glucose', 'smoke', 'alcohol', 'active', 'BMI']\n",
    "assembler = VectorAssembler(inputCols=feature_columns, outputCol=\"features\")\n",
    "output = assembler.transform(data)\n",
    "\n",
    "final_data = output.select(\"features\", \"indexedLabel\")\n",
    "\n",
    "# Split the data into training and test sets\n",
    "train_data, test_data = final_data.randomSplit([0.7, 0.3])\n",
    "\n",
    "# Define classifiers\n",
    "dtc = DecisionTreeClassifier(labelCol='indexedLabel',featuresCol='features')\n",
    "rfc = RandomForestClassifier(labelCol='indexedLabel',featuresCol='features')\n",
    "gbt = GBTClassifier(labelCol='indexedLabel',featuresCol='features')\n",
    "\n",
    "# Train the models\n",
    "dtc_model = dtc.fit(train_data)\n",
    "rfc_model = rfc.fit(train_data)\n",
    "gbt_model = gbt.fit(train_data)\n",
    "\n",
    "# Predictions\n",
    "dtc_predictions = dtc_model.transform(test_data)\n",
    "rfc_predictions = rfc_model.transform(test_data)\n",
    "gbt_predictions = gbt_model.transform(test_data)\n",
    "\n",
    "# Evaluate models\n",
    "binary_evaluator = BinaryClassificationEvaluator(labelCol = 'indexedLabel')\n",
    "print(\"DTC AUC:\", binary_evaluator.evaluate(dtc_predictions))\n",
    "print(\"RFC AUC:\", binary_evaluator.evaluate(rfc_predictions))\n",
    "\n",
    "# Note: for GBT, the rawPredictionCol should be 'prediction' by default\n",
    "binary_evaluator_gbt = BinaryClassificationEvaluator(labelCol='indexedLabel', rawPredictionCol='prediction')\n",
    "print(\"GBT AUC:\", binary_evaluator_gbt.evaluate(gbt_predictions))\n",
    "\n",
    "# Evaluate accuracy\n",
    "acc_evaluator = MulticlassClassificationEvaluator(labelCol=\"indexedLabel\", predictionCol=\"prediction\", metricName=\"accuracy\")\n",
    "print('DTC Accuracy:', acc_evaluator.evaluate(dtc_predictions))\n",
    "print('RFC Accuracy:', acc_evaluator.evaluate(rfc_predictions))\n",
    "print('GBT Accuracy:', acc_evaluator.evaluate(gbt_predictions))"
   ]
  },
  {
   "cell_type": "code",
   "execution_count": 13,
   "id": "55f59291",
   "metadata": {},
   "outputs": [
    {
     "name": "stderr",
     "output_type": "stream",
     "text": [
      "                                                                                \r"
     ]
    },
    {
     "name": "stdout",
     "output_type": "stream",
     "text": [
      "DTC AUC: 0.6206477362355212\n",
      "RFC AUC: 0.7908384251124067\n"
     ]
    },
    {
     "name": "stderr",
     "output_type": "stream",
     "text": [
      "\r",
      "[Stage 17234:>                                                      (0 + 1) / 1]\r",
      "\r",
      "                                                                                \r"
     ]
    },
    {
     "name": "stdout",
     "output_type": "stream",
     "text": [
      "GBT AUC: 0.7268092400901426\n"
     ]
    },
    {
     "name": "stderr",
     "output_type": "stream",
     "text": [
      "\r",
      "[Stage 17243:>                                                      (0 + 1) / 1]\r"
     ]
    },
    {
     "name": "stdout",
     "output_type": "stream",
     "text": [
      "DTC Accuracy: 0.7226105510999926\n"
     ]
    },
    {
     "name": "stderr",
     "output_type": "stream",
     "text": [
      "                                                                                \r"
     ]
    },
    {
     "name": "stdout",
     "output_type": "stream",
     "text": [
      "RFC Accuracy: 0.7231991759252446\n",
      "GBT Accuracy: 0.7271723934956957\n"
     ]
    }
   ],
   "source": [
    "# 80/20\n",
    "from pyspark.sql import SparkSession\n",
    "from pyspark.ml.feature import StringIndexer, VectorAssembler\n",
    "from pyspark.ml.classification import RandomForestClassifier, DecisionTreeClassifier, GBTClassifier\n",
    "from pyspark.ml.evaluation import BinaryClassificationEvaluator, MulticlassClassificationEvaluator\n",
    "\n",
    "# Setting up Spark Configuration\n",
    "spark = SparkSession.builder.appName('tree_methods_adv').getOrCreate()\n",
    "\n",
    "# 1. Preparation of Data\n",
    "data = spark.read.csv('redu4.csv', header=True, inferSchema=True)\n",
    "\n",
    "# 2. Label Indexing\n",
    "labelIndexer = StringIndexer(inputCol=\"cardio\", outputCol=\"indexedLabel\").fit(data)\n",
    "data = labelIndexer.transform(data)\n",
    "\n",
    "# 3. Vector Assembling\n",
    "feature_columns = ['age', 'gender', 'ap_hi', 'ap_lo', 'cholesterol', 'glucose', 'smoke', 'alcohol', 'active', 'BMI']\n",
    "assembler = VectorAssembler(inputCols=feature_columns, outputCol=\"features\")\n",
    "output = assembler.transform(data)\n",
    "\n",
    "final_data = output.select(\"features\", \"indexedLabel\")\n",
    "\n",
    "# Split the data into training and test sets\n",
    "train_data, test_data = final_data.randomSplit([0.8, 0.2])\n",
    "\n",
    "# Define classifiers\n",
    "dtc = DecisionTreeClassifier(labelCol='indexedLabel',featuresCol='features')\n",
    "rfc = RandomForestClassifier(labelCol='indexedLabel',featuresCol='features')\n",
    "gbt = GBTClassifier(labelCol='indexedLabel',featuresCol='features')\n",
    "\n",
    "# Train the models\n",
    "dtc_model = dtc.fit(train_data)\n",
    "rfc_model = rfc.fit(train_data)\n",
    "gbt_model = gbt.fit(train_data)\n",
    "\n",
    "# Predictions\n",
    "dtc_predictions = dtc_model.transform(test_data)\n",
    "rfc_predictions = rfc_model.transform(test_data)\n",
    "gbt_predictions = gbt_model.transform(test_data)\n",
    "\n",
    "# Evaluate models\n",
    "binary_evaluator = BinaryClassificationEvaluator(labelCol = 'indexedLabel')\n",
    "print(\"DTC AUC:\", binary_evaluator.evaluate(dtc_predictions))\n",
    "print(\"RFC AUC:\", binary_evaluator.evaluate(rfc_predictions))\n",
    "\n",
    "# Note: for GBT, the rawPredictionCol should be 'prediction' by default\n",
    "binary_evaluator_gbt = BinaryClassificationEvaluator(labelCol='indexedLabel', rawPredictionCol='prediction')\n",
    "print(\"GBT AUC:\", binary_evaluator_gbt.evaluate(gbt_predictions))\n",
    "\n",
    "# Evaluate accuracy\n",
    "acc_evaluator = MulticlassClassificationEvaluator(labelCol=\"indexedLabel\", predictionCol=\"prediction\", metricName=\"accuracy\")\n",
    "print('DTC Accuracy:', acc_evaluator.evaluate(dtc_predictions))\n",
    "print('RFC Accuracy:', acc_evaluator.evaluate(rfc_predictions))\n",
    "print('GBT Accuracy:', acc_evaluator.evaluate(gbt_predictions))"
   ]
  },
  {
   "cell_type": "code",
   "execution_count": 11,
   "id": "9479ebd6",
   "metadata": {
    "scrolled": true
   },
   "outputs": [
    {
     "name": "stderr",
     "output_type": "stream",
     "text": [
      "                                                                                \r"
     ]
    },
    {
     "name": "stdout",
     "output_type": "stream",
     "text": [
      "Area under ROC = 0.7821135887173621\n",
      "Feature Importances: (10,[0,1,2,3,4,5,6,7,8,9],[0.09995095894665941,8.524029244791521e-05,0.568230987882934,0.2228923501375823,0.08947085704986053,0.0016903256075915343,0.0005920495580094649,0.0002741095221801249,0.0010962905273323852,0.015716830475402132])\n"
     ]
    },
    {
     "name": "stderr",
     "output_type": "stream",
     "text": [
      "\r",
      "[Stage 11743:>                                                      (0 + 1) / 1]\r",
      "\r",
      "                                                                                \r"
     ]
    }
   ],
   "source": [
    "# RandomForest Option1:\n",
    "from pyspark.ml.feature import StringIndexer, VectorAssembler\n",
    "from pyspark.ml.classification import RandomForestClassifier\n",
    "from pyspark.ml import Pipeline\n",
    "from pyspark.ml.evaluation import BinaryClassificationEvaluator\n",
    "\n",
    "# 1. Preparation of Data\n",
    "data = spark.read.csv('redu4.csv', header=True, inferSchema=True)\n",
    "\n",
    "# 2. Label Indexing\n",
    "labelIndexer = StringIndexer(inputCol=\"cardio\", outputCol=\"indexedLabel\").fit(data)\n",
    "\n",
    "# 3. Vector Assembling\n",
    "feature_columns = ['age', 'gender', 'ap_hi', 'ap_lo', 'cholesterol', 'glucose', 'smoke', 'alcohol', 'active', 'BMI']\n",
    "assembler = VectorAssembler(inputCols=feature_columns, outputCol=\"features\")\n",
    "\n",
    "# 4. Random Forest Classifier\n",
    "rf = RandomForestClassifier(labelCol=\"indexedLabel\", featuresCol=\"features\", numTrees=100)\n",
    "\n",
    "# 5. Data Splitting\n",
    "(train_data, test_data) = data.randomSplit([0.8, 0.2])\n",
    "\n",
    "# 6. Pipeline Construction\n",
    "pipeline = Pipeline(stages=[labelIndexer, assembler, rf])\n",
    "\n",
    "# 7. Training the Model\n",
    "model = pipeline.fit(train_data)\n",
    "\n",
    "# 8. Making Predictions\n",
    "predictions = model.transform(test_data)\n",
    "\n",
    "# 9. Model Evaluation\n",
    "evaluator = BinaryClassificationEvaluator(labelCol=\"indexedLabel\", rawPredictionCol=\"rawPrediction\", metricName=\"areaUnderROC\")\n",
    "accuracy = evaluator.evaluate(predictions)\n",
    "print(f\"Area under ROC = {accuracy}\")\n",
    "\n",
    "# 10. Feature Importance\n",
    "rfModel = model.stages[-1]\n",
    "print(\"Feature Importances: \" + str(rfModel.featureImportances))\n"
   ]
  },
  {
   "cell_type": "code",
   "execution_count": 6,
   "id": "fa0c029b",
   "metadata": {},
   "outputs": [
    {
     "name": "stderr",
     "output_type": "stream",
     "text": [
      "23/10/08 01:50:41 WARN DAGScheduler: Broadcasting large task binary with size 1274.5 KiB\n",
      "23/10/08 01:50:41 WARN DAGScheduler: Broadcasting large task binary with size 1908.0 KiB\n",
      "23/10/08 01:50:42 WARN DAGScheduler: Broadcasting large task binary with size 2.6 MiB\n",
      "23/10/08 01:50:43 WARN DAGScheduler: Broadcasting large task binary with size 1736.2 KiB\n",
      "23/10/08 01:50:47 WARN DAGScheduler: Broadcasting large task binary with size 1498.6 KiB\n",
      "23/10/08 01:50:48 WARN DAGScheduler: Broadcasting large task binary with size 2.4 MiB\n",
      "23/10/08 01:50:49 WARN DAGScheduler: Broadcasting large task binary with size 3.6 MiB\n",
      "23/10/08 01:50:51 WARN DAGScheduler: Broadcasting large task binary with size 5.1 MiB\n",
      "23/10/08 01:50:53 WARN DAGScheduler: Broadcasting large task binary with size 3.3 MiB\n",
      "23/10/08 01:50:57 WARN DAGScheduler: Broadcasting large task binary with size 1251.6 KiB\n",
      "23/10/08 01:50:58 WARN DAGScheduler: Broadcasting large task binary with size 1868.1 KiB\n",
      "23/10/08 01:50:58 WARN DAGScheduler: Broadcasting large task binary with size 2.6 MiB\n",
      "23/10/08 01:50:59 WARN DAGScheduler: Broadcasting large task binary with size 1690.9 KiB\n",
      "23/10/08 01:51:04 WARN DAGScheduler: Broadcasting large task binary with size 1517.5 KiB\n",
      "23/10/08 01:51:05 WARN DAGScheduler: Broadcasting large task binary with size 2.4 MiB\n",
      "23/10/08 01:51:06 WARN DAGScheduler: Broadcasting large task binary with size 3.6 MiB\n",
      "23/10/08 01:51:08 WARN DAGScheduler: Broadcasting large task binary with size 5.1 MiB\n",
      "23/10/08 01:51:10 WARN DAGScheduler: Broadcasting large task binary with size 3.3 MiB\n",
      "23/10/08 01:51:14 WARN DAGScheduler: Broadcasting large task binary with size 1251.4 KiB\n",
      "23/10/08 01:51:14 WARN DAGScheduler: Broadcasting large task binary with size 1851.1 KiB\n",
      "23/10/08 01:51:15 WARN DAGScheduler: Broadcasting large task binary with size 2.5 MiB\n",
      "23/10/08 01:51:16 WARN DAGScheduler: Broadcasting large task binary with size 1681.4 KiB\n",
      "23/10/08 01:51:21 WARN DAGScheduler: Broadcasting large task binary with size 1487.4 KiB\n",
      "23/10/08 01:51:21 WARN DAGScheduler: Broadcasting large task binary with size 2.4 MiB\n",
      "23/10/08 01:51:23 WARN DAGScheduler: Broadcasting large task binary with size 3.6 MiB\n",
      "23/10/08 01:51:24 WARN DAGScheduler: Broadcasting large task binary with size 5.0 MiB\n",
      "23/10/08 01:51:26 WARN DAGScheduler: Broadcasting large task binary with size 3.2 MiB\n"
     ]
    },
    {
     "name": "stdout",
     "output_type": "stream",
     "text": [
      "Area under ROC = 0.7858532166424722\n",
      "Best Model Feature Importances: (10,[0,1,2,3,4,5,6,7,8,9],[0.13061114755711536,0.0018277157318684096,0.5503752097707231,0.20204330781200916,0.06958941335654437,0.0056492232587432335,0.0024330033129717574,0.0016565362468506906,0.002455008959409269,0.033359433993764696])\n",
      "Best Model Parameters: \n",
      "Number of Trees: 100\n",
      "Max Depth: 5\n"
     ]
    }
   ],
   "source": [
    "# RandomForest Option2:\n",
    "from pyspark.sql import SparkSession\n",
    "from pyspark.ml.feature import StringIndexer, VectorAssembler\n",
    "from pyspark.ml.classification import RandomForestClassifier\n",
    "from pyspark.ml import Pipeline\n",
    "from pyspark.ml.tuning import CrossValidator, ParamGridBuilder\n",
    "from pyspark.ml.evaluation import BinaryClassificationEvaluator\n",
    "\n",
    "# Setting up Spark Configuration\n",
    "spark = SparkSession.builder \\\n",
    "    .appName(\"Cardio Analysis\") \\\n",
    "    .config(\"spark.executor.memory\", \"4g\") \\\n",
    "    .config(\"spark.executor.cores\", \"4\") \\\n",
    "    .config(\"spark.default.parallelism\", \"100\") \\\n",
    "    .getOrCreate()\n",
    "\n",
    "# 1. Preparation of Data\n",
    "data = spark.read.csv('redu4.csv', header=True, inferSchema=True)\n",
    "\n",
    "# 2. Label Indexing\n",
    "labelIndexer = StringIndexer(inputCol=\"cardio\", outputCol=\"indexedLabel\").fit(data)\n",
    "\n",
    "# 3. Vector Assembling\n",
    "feature_columns = ['age', 'gender', 'ap_hi', 'ap_lo', 'cholesterol', 'glucose', 'smoke', 'alcohol', 'active', 'BMI']\n",
    "assembler = VectorAssembler(inputCols=feature_columns, outputCol=\"features\")\n",
    " \n",
    "# 4. Random Forest Classifier\n",
    "rf = RandomForestClassifier(labelCol=\"indexedLabel\", featuresCol=\"features\")\n",
    "\n",
    "# 5. Data Splitting\n",
    "(train_data, test_data) = data.randomSplit([0.8, 0.2])\n",
    "\n",
    "# Using a sample of training data for hyperparameter tuning\n",
    "sample_data = train_data.sample(withReplacement=False, fraction=0.1)\n",
    "\n",
    "# 6. Pipeline Construction\n",
    "pipeline = Pipeline(stages=[labelIndexer, assembler, rf])\n",
    "\n",
    "# 7. Cross Validator Setup\n",
    "paramGrid = ParamGridBuilder() \\\n",
    "    .addGrid(rf.numTrees, [50, 100]) \\\n",
    "    .addGrid(rf.maxDepth, [5, 10]) \\\n",
    "    .build()\n",
    "\n",
    "crossval = CrossValidator(estimator=pipeline,\n",
    "                          estimatorParamMaps=paramGrid,\n",
    "                          evaluator=BinaryClassificationEvaluator(labelCol=\"indexedLabel\", rawPredictionCol=\"rawPrediction\", metricName=\"areaUnderROC\"),\n",
    "                          numFolds=3)\n",
    "\n",
    "# 8. Training the Model using Cross-Validation\n",
    "cvModel = crossval.fit(sample_data)\n",
    "\n",
    "# 9. Making Predictions on Test Data\n",
    "predictions = cvModel.transform(test_data)\n",
    "\n",
    "# 10. Model Evaluation\n",
    "evaluator = BinaryClassificationEvaluator(labelCol=\"indexedLabel\", rawPredictionCol=\"rawPrediction\", metricName=\"areaUnderROC\")\n",
    "accuracy = evaluator.evaluate(predictions)\n",
    "print(f\"Area under ROC = {accuracy}\")\n",
    "\n",
    "# Getting the best Random Forest model from the cross validation\n",
    "best_rf_model = cvModel.bestModel.stages[-1]\n",
    "print(\"Best Model Feature Importances: \" + str(best_rf_model.featureImportances))\n",
    "\n",
    "\n",
    "best_rf_model = cvModel.bestModel.stages[-1]\n",
    "print(\"Best Model Parameters: \")\n",
    "print(\"Number of Trees:\", best_rf_model.getNumTrees)\n",
    "print(\"Max Depth:\", best_rf_model.getOrDefault('maxDepth'))"
   ]
  },
  {
   "cell_type": "code",
   "execution_count": 7,
   "id": "b8cbf9f1",
   "metadata": {
    "scrolled": true
   },
   "outputs": [
    {
     "name": "stderr",
     "output_type": "stream",
     "text": [
      "23/10/08 01:51:41 WARN DAGScheduler: Broadcasting large task binary with size 1680.9 KiB\n",
      "23/10/08 01:51:43 WARN DAGScheduler: Broadcasting large task binary with size 2.9 MiB\n",
      "23/10/08 01:51:46 WARN DAGScheduler: Broadcasting large task binary with size 4.8 MiB\n",
      "23/10/08 01:51:47 WARN DAGScheduler: Broadcasting large task binary with size 1041.7 KiB\n",
      "23/10/08 01:51:48 WARN DAGScheduler: Broadcasting large task binary with size 2.9 MiB\n",
      "23/10/08 01:52:07 WARN DAGScheduler: Broadcasting large task binary with size 1741.1 KiB\n",
      "23/10/08 01:52:11 WARN DAGScheduler: Broadcasting large task binary with size 3.2 MiB\n",
      "23/10/08 01:52:16 WARN DAGScheduler: Broadcasting large task binary with size 5.6 MiB\n",
      "23/10/08 01:52:19 WARN DAGScheduler: Broadcasting large task binary with size 1389.0 KiB\n",
      "23/10/08 01:52:21 WARN DAGScheduler: Broadcasting large task binary with size 9.4 MiB\n",
      "23/10/08 01:52:24 WARN DAGScheduler: Broadcasting large task binary with size 2.0 MiB\n",
      "23/10/08 01:52:26 WARN DAGScheduler: Broadcasting large task binary with size 5.7 MiB\n",
      "23/10/08 01:52:38 WARN DAGScheduler: Broadcasting large task binary with size 1681.1 KiB\n",
      "23/10/08 01:52:39 WARN DAGScheduler: Broadcasting large task binary with size 2.9 MiB\n",
      "23/10/08 01:52:41 WARN DAGScheduler: Broadcasting large task binary with size 4.8 MiB\n",
      "23/10/08 01:52:43 WARN DAGScheduler: Broadcasting large task binary with size 1049.7 KiB\n",
      "23/10/08 01:52:45 WARN DAGScheduler: Broadcasting large task binary with size 2.9 MiB\n",
      "23/10/08 01:53:04 WARN DAGScheduler: Broadcasting large task binary with size 1750.2 KiB\n",
      "23/10/08 01:53:07 WARN DAGScheduler: Broadcasting large task binary with size 3.2 MiB\n",
      "23/10/08 01:53:11 WARN DAGScheduler: Broadcasting large task binary with size 5.6 MiB\n",
      "23/10/08 01:53:14 WARN DAGScheduler: Broadcasting large task binary with size 1395.8 KiB\n",
      "23/10/08 01:53:16 WARN DAGScheduler: Broadcasting large task binary with size 9.4 MiB\n",
      "23/10/08 01:53:19 WARN DAGScheduler: Broadcasting large task binary with size 2.0 MiB\n",
      "23/10/08 01:53:21 WARN DAGScheduler: Broadcasting large task binary with size 5.7 MiB\n",
      "23/10/08 01:53:32 WARN DAGScheduler: Broadcasting large task binary with size 1668.8 KiB\n",
      "23/10/08 01:53:34 WARN DAGScheduler: Broadcasting large task binary with size 2.9 MiB\n",
      "23/10/08 01:53:37 WARN DAGScheduler: Broadcasting large task binary with size 4.7 MiB\n",
      "23/10/08 01:53:38 WARN DAGScheduler: Broadcasting large task binary with size 1029.9 KiB\n",
      "23/10/08 01:53:40 WARN DAGScheduler: Broadcasting large task binary with size 2.9 MiB\n",
      "23/10/08 01:53:59 WARN DAGScheduler: Broadcasting large task binary with size 1734.2 KiB\n",
      "23/10/08 01:54:02 WARN DAGScheduler: Broadcasting large task binary with size 3.1 MiB\n",
      "23/10/08 01:54:07 WARN DAGScheduler: Broadcasting large task binary with size 5.5 MiB\n",
      "23/10/08 01:54:10 WARN DAGScheduler: Broadcasting large task binary with size 1367.2 KiB\n",
      "23/10/08 01:54:12 WARN DAGScheduler: Broadcasting large task binary with size 9.3 MiB\n",
      "23/10/08 01:54:16 WARN DAGScheduler: Broadcasting large task binary with size 2027.5 KiB\n",
      "23/10/08 01:54:18 WARN DAGScheduler: Broadcasting large task binary with size 5.5 MiB\n",
      "23/10/08 01:54:35 WARN DAGScheduler: Broadcasting large task binary with size 1744.1 KiB\n",
      "23/10/08 01:54:40 WARN DAGScheduler: Broadcasting large task binary with size 3.2 MiB\n",
      "23/10/08 01:54:46 WARN DAGScheduler: Broadcasting large task binary with size 5.8 MiB\n",
      "23/10/08 01:54:50 WARN DAGScheduler: Broadcasting large task binary with size 1508.4 KiB\n",
      "23/10/08 01:54:52 WARN DAGScheduler: Broadcasting large task binary with size 10.0 MiB\n",
      "23/10/08 01:54:58 WARN DAGScheduler: Broadcasting large task binary with size 2.3 MiB\n",
      "23/10/08 01:55:00 WARN DAGScheduler: Broadcasting large task binary with size 6.0 MiB\n",
      "[Stage 1035:>                                                       (0 + 1) / 1]\r"
     ]
    },
    {
     "name": "stdout",
     "output_type": "stream",
     "text": [
      "Area under ROC = 0.791630783902399\n",
      "Best Model Feature Importances: (10,[0,1,2,3,4,5,6,7,8,9],[0.14826796407475648,0.006194272790555193,0.5033462682881616,0.1815941023986837,0.07555569899139145,0.008615856083781955,0.006120872042470398,0.005260515722247223,0.009357592579698419,0.055686857028253496])\n",
      "Number of Trees: 100\n",
      "Max Depth: 10\n"
     ]
    },
    {
     "name": "stderr",
     "output_type": "stream",
     "text": [
      "\r",
      "                                                                                \r"
     ]
    }
   ],
   "source": [
    "# RandomForest Option3:\n",
    "from pyspark.sql import SparkSession\n",
    "from pyspark.ml.feature import StringIndexer, VectorAssembler\n",
    "from pyspark.ml.classification import RandomForestClassifier\n",
    "from pyspark.ml import Pipeline\n",
    "from pyspark.ml.tuning import CrossValidator, ParamGridBuilder\n",
    "from pyspark.ml.evaluation import BinaryClassificationEvaluator\n",
    "\n",
    "# Initialize Spark Session\n",
    "spark = SparkSession.builder.appName(\"Cardiovascular Disease Prediction\").getOrCreate()\n",
    "\n",
    "# 1. Load Data\n",
    "data = spark.read.csv('redu4.csv', header=True, inferSchema=True)\n",
    "\n",
    "# 2. Label Indexing\n",
    "labelIndexer = StringIndexer(inputCol=\"cardio\", outputCol=\"indexedLabel\").fit(data)\n",
    "\n",
    "# 3. Assemble Feature Vector\n",
    "feature_columns = ['age', 'gender', 'ap_hi', 'ap_lo', 'cholesterol', 'glucose', 'smoke', 'alcohol', 'active', 'BMI']\n",
    "assembler = VectorAssembler(inputCols=feature_columns, outputCol=\"features\")\n",
    "\n",
    "# 4. Initialize RandomForest Classifier\n",
    "rf = RandomForestClassifier(labelCol=\"indexedLabel\", featuresCol=\"features\")\n",
    "\n",
    "# 5. Split Data for Training and Testing\n",
    "(train_data, test_data) = data.randomSplit([0.8, 0.2])\n",
    "\n",
    "# 6. Construct Pipeline\n",
    "pipeline = Pipeline(stages=[labelIndexer, assembler, rf])\n",
    "\n",
    "# 7. Setup Parameter Grid for Hyperparameter Tuning\n",
    "paramGrid = ParamGridBuilder() \\\n",
    "    .addGrid(rf.numTrees, [50, 100]) \\\n",
    "    .addGrid(rf.maxDepth, [5, 10]) \\\n",
    "    .build()\n",
    "\n",
    "# 8. CrossValidator Setup\n",
    "crossval = CrossValidator(estimator=pipeline,\n",
    "                          estimatorParamMaps=paramGrid,\n",
    "                          evaluator=BinaryClassificationEvaluator(labelCol=\"indexedLabel\", rawPredictionCol=\"rawPrediction\", metricName=\"areaUnderROC\"),\n",
    "                          numFolds=3)\n",
    "\n",
    "# 9. Train Model using Cross Validation\n",
    "cvModel = crossval.fit(train_data)\n",
    "\n",
    "# 10. Make Predictions on Test Data\n",
    "predictions = cvModel.transform(test_data)\n",
    "\n",
    "# 11. Evaluate Model\n",
    "evaluator = BinaryClassificationEvaluator(labelCol=\"indexedLabel\", rawPredictionCol=\"rawPrediction\", metricName=\"areaUnderROC\")\n",
    "accuracy = evaluator.evaluate(predictions)\n",
    "print(f\"Area under ROC = {accuracy}\")\n",
    "\n",
    "# 12. Display Best Model's Feature Importances\n",
    "best_rf_model = cvModel.bestModel.stages[-1]\n",
    "print(\"Best Model Feature Importances:\", best_rf_model.featureImportances)\n",
    "\n",
    "# 13. Display Best Model Parameters\n",
    "print(\"Number of Trees:\", best_rf_model.getNumTrees)\n",
    "print(\"Max Depth:\", best_rf_model.getOrDefault('maxDepth'))"
   ]
  },
  {
   "cell_type": "code",
   "execution_count": 8,
   "id": "84dc16e3",
   "metadata": {},
   "outputs": [
    {
     "name": "stderr",
     "output_type": "stream",
     "text": [
      "                                                                                \r"
     ]
    },
    {
     "name": "stdout",
     "output_type": "stream",
     "text": [
      "Best Model Accuracy:  0.714828714395689\n",
      "Best Max Depth:  5\n",
      "Best Max Bins:  32\n"
     ]
    },
    {
     "name": "stderr",
     "output_type": "stream",
     "text": [
      "\r",
      "[Stage 1765:>                                                       (0 + 1) / 1]\r",
      "\r",
      "                                                                                \r"
     ]
    }
   ],
   "source": [
    "# Decision Tree Option1 (70/30):\n",
    "from pyspark.sql import SparkSession\n",
    "from pyspark.ml.feature import StringIndexer, VectorAssembler\n",
    "from pyspark.ml.classification import DecisionTreeClassifier\n",
    "from pyspark.ml.evaluation import MulticlassClassificationEvaluator\n",
    "from pyspark.ml.tuning import CrossValidator, ParamGridBuilder\n",
    "\n",
    "# Initialize Spark session\n",
    "spark = SparkSession.builder.appName(\"CardioAnalysis\").getOrCreate()\n",
    "\n",
    "# Load the dataset\n",
    "data = spark.read.csv('redu4.csv', header=True, inferSchema=True)\n",
    "\n",
    "# Prepare the data\n",
    "feature_columns = ['age', 'gender', 'ap_hi', 'ap_lo', 'cholesterol', 'glucose', 'smoke', 'alcohol', 'active', 'BMI']\n",
    "assembler = VectorAssembler(inputCols=feature_columns, outputCol=\"features\")\n",
    "data = assembler.transform(data)\n",
    "\n",
    "# Convert 'cardio' column to an index\n",
    "labelIndexer = StringIndexer(inputCol=\"cardio\", outputCol=\"indexedLabel\").fit(data)\n",
    "data = labelIndexer.transform(data)\n",
    "\n",
    "# Split the data\n",
    "train_data, test_data = data.randomSplit([0.7, 0.3])\n",
    "\n",
    "# Decision Tree setup\n",
    "dt = DecisionTreeClassifier(labelCol=\"indexedLabel\", featuresCol=\"features\")\n",
    "\n",
    "# Grid of parameters to search over\n",
    "paramGrid = ParamGridBuilder() \\\n",
    "    .addGrid(dt.maxDepth, [5, 10, 15]) \\\n",
    "    .addGrid(dt.maxBins, [32, 64, 128]) \\\n",
    "    .build()\n",
    "\n",
    "# Cross validation\n",
    "crossval = CrossValidator(estimator=dt,\n",
    "                          estimatorParamMaps=paramGrid,\n",
    "                          evaluator=MulticlassClassificationEvaluator(labelCol=\"indexedLabel\", predictionCol=\"prediction\", metricName=\"accuracy\"),\n",
    "                          numFolds=3)\n",
    "\n",
    "# Fit the model\n",
    "cvModel = crossval.fit(train_data)\n",
    "\n",
    "# Make predictions\n",
    "predictions = cvModel.transform(test_data)\n",
    "\n",
    "# Evaluate the best model\n",
    "evaluator = MulticlassClassificationEvaluator(labelCol=\"indexedLabel\", predictionCol=\"prediction\", metricName=\"accuracy\")\n",
    "accuracy = evaluator.evaluate(predictions)\n",
    "print(\"Best Model Accuracy: \", accuracy)\n",
    "\n",
    "# Get and print the optimal parameters\n",
    "best_dt_model = cvModel.bestModel\n",
    "print(\"Best Max Depth: \", best_dt_model.getMaxDepth())\n",
    "print(\"Best Max Bins: \", best_dt_model.getMaxBins())\n"
   ]
  },
  {
   "cell_type": "code",
   "execution_count": 16,
   "id": "d46eead9",
   "metadata": {},
   "outputs": [
    {
     "name": "stderr",
     "output_type": "stream",
     "text": [
      "                                                                                \r"
     ]
    },
    {
     "name": "stdout",
     "output_type": "stream",
     "text": [
      "Best Model Accuracy:  0.7188630117170548\n",
      "Best Max Depth:  5\n",
      "Best Max Bins:  32\n"
     ]
    },
    {
     "name": "stderr",
     "output_type": "stream",
     "text": [
      "\r",
      "[Stage 23399:>                                                      (0 + 1) / 1]\r",
      "\r",
      "                                                                                \r"
     ]
    }
   ],
   "source": [
    "# Decision Tree Option1 (80/20):\n",
    "from pyspark.sql import SparkSession\n",
    "from pyspark.ml.feature import StringIndexer, VectorAssembler\n",
    "from pyspark.ml.classification import DecisionTreeClassifier\n",
    "from pyspark.ml.evaluation import MulticlassClassificationEvaluator\n",
    "from pyspark.ml.tuning import CrossValidator, ParamGridBuilder\n",
    "\n",
    "# Initialize Spark session\n",
    "spark = SparkSession.builder.appName(\"CardioAnalysis\").getOrCreate()\n",
    "\n",
    "# Load the dataset\n",
    "data = spark.read.csv('redu4.csv', header=True, inferSchema=True)\n",
    "\n",
    "# Prepare the data\n",
    "feature_columns = ['age', 'gender', 'ap_hi', 'ap_lo', 'cholesterol', 'glucose', 'smoke', 'alcohol', 'active', 'BMI']\n",
    "assembler = VectorAssembler(inputCols=feature_columns, outputCol=\"features\")\n",
    "data = assembler.transform(data)\n",
    "\n",
    "# Convert 'cardio' column to an index\n",
    "labelIndexer = StringIndexer(inputCol=\"cardio\", outputCol=\"indexedLabel\").fit(data)\n",
    "data = labelIndexer.transform(data)\n",
    "\n",
    "# Split the data\n",
    "train_data, test_data = data.randomSplit([0.8, 0.2])\n",
    "\n",
    "# Decision Tree setup\n",
    "dt = DecisionTreeClassifier(labelCol=\"indexedLabel\", featuresCol=\"features\")\n",
    "\n",
    "# Grid of parameters to search over\n",
    "paramGrid = ParamGridBuilder() \\\n",
    "    .addGrid(dt.maxDepth, [5, 10, 15]) \\\n",
    "    .addGrid(dt.maxBins, [32, 64, 128]) \\\n",
    "    .build()\n",
    "\n",
    "# Cross validation\n",
    "crossval = CrossValidator(estimator=dt,\n",
    "                          estimatorParamMaps=paramGrid,\n",
    "                          evaluator=MulticlassClassificationEvaluator(labelCol=\"indexedLabel\", predictionCol=\"prediction\", metricName=\"accuracy\"),\n",
    "                          numFolds=3)\n",
    "\n",
    "# Fit the model\n",
    "cvModel = crossval.fit(train_data)\n",
    "\n",
    "# Make predictions\n",
    "predictions = cvModel.transform(test_data)\n",
    "\n",
    "# Evaluate the best model\n",
    "evaluator = MulticlassClassificationEvaluator(labelCol=\"indexedLabel\", predictionCol=\"prediction\", metricName=\"accuracy\")\n",
    "accuracy = evaluator.evaluate(predictions)\n",
    "print(\"Best Model Accuracy: \", accuracy)\n",
    "\n",
    "# Get and print the optimal parameters\n",
    "best_dt_model = cvModel.bestModel\n",
    "print(\"Best Max Depth: \", best_dt_model.getMaxDepth())\n",
    "print(\"Best Max Bins: \", best_dt_model.getMaxBins())\n"
   ]
  },
  {
   "cell_type": "code",
   "execution_count": 9,
   "id": "91fe47e9",
   "metadata": {},
   "outputs": [
    {
     "name": "stderr",
     "output_type": "stream",
     "text": [
      "23/10/08 01:56:38 WARN DAGScheduler: Broadcasting large task binary with size 1165.0 KiB\n",
      "23/10/08 01:56:39 WARN DAGScheduler: Broadcasting large task binary with size 1373.0 KiB\n",
      "23/10/08 01:56:39 WARN DAGScheduler: Broadcasting large task binary with size 1574.7 KiB\n",
      "23/10/08 01:56:39 WARN DAGScheduler: Broadcasting large task binary with size 1751.5 KiB\n",
      "23/10/08 01:56:41 WARN DAGScheduler: Broadcasting large task binary with size 1069.5 KiB\n",
      "23/10/08 01:56:41 WARN DAGScheduler: Broadcasting large task binary with size 1264.9 KiB\n",
      "23/10/08 01:56:42 WARN DAGScheduler: Broadcasting large task binary with size 1456.4 KiB\n",
      "23/10/08 01:56:42 WARN DAGScheduler: Broadcasting large task binary with size 1639.7 KiB\n",
      "23/10/08 01:56:44 WARN DAGScheduler: Broadcasting large task binary with size 1076.0 KiB\n",
      "23/10/08 01:56:44 WARN DAGScheduler: Broadcasting large task binary with size 1275.8 KiB\n",
      "23/10/08 01:56:45 WARN DAGScheduler: Broadcasting large task binary with size 1483.4 KiB\n",
      "23/10/08 01:56:45 WARN DAGScheduler: Broadcasting large task binary with size 1687.8 KiB\n",
      "23/10/08 01:56:47 WARN DAGScheduler: Broadcasting large task binary with size 1131.1 KiB\n",
      "23/10/08 01:56:48 WARN DAGScheduler: Broadcasting large task binary with size 1309.9 KiB\n",
      "23/10/08 01:56:48 WARN DAGScheduler: Broadcasting large task binary with size 1491.3 KiB\n",
      "23/10/08 01:56:50 WARN DAGScheduler: Broadcasting large task binary with size 1011.6 KiB\n",
      "23/10/08 01:56:50 WARN DAGScheduler: Broadcasting large task binary with size 1191.0 KiB\n",
      "23/10/08 01:56:51 WARN DAGScheduler: Broadcasting large task binary with size 1384.5 KiB\n",
      "23/10/08 01:56:51 WARN DAGScheduler: Broadcasting large task binary with size 1581.9 KiB\n",
      "23/10/08 01:56:54 WARN DAGScheduler: Broadcasting large task binary with size 1095.3 KiB\n",
      "23/10/08 01:56:54 WARN DAGScheduler: Broadcasting large task binary with size 1277.6 KiB\n",
      "23/10/08 01:56:54 WARN DAGScheduler: Broadcasting large task binary with size 1466.3 KiB\n",
      "23/10/08 01:56:57 WARN DAGScheduler: Broadcasting large task binary with size 1117.7 KiB\n",
      "23/10/08 01:56:57 WARN DAGScheduler: Broadcasting large task binary with size 1287.1 KiB\n",
      "23/10/08 01:56:57 WARN DAGScheduler: Broadcasting large task binary with size 1457.1 KiB\n",
      "23/10/08 01:57:00 WARN DAGScheduler: Broadcasting large task binary with size 1139.5 KiB\n",
      "23/10/08 01:57:01 WARN DAGScheduler: Broadcasting large task binary with size 1303.0 KiB\n",
      "23/10/08 01:57:04 WARN DAGScheduler: Broadcasting large task binary with size 1076.2 KiB\n",
      "23/10/08 01:57:04 WARN DAGScheduler: Broadcasting large task binary with size 1236.7 KiB\n",
      "23/10/08 01:57:04 WARN DAGScheduler: Broadcasting large task binary with size 1393.1 KiB\n",
      "23/10/08 01:57:08 WARN DAGScheduler: Broadcasting large task binary with size 1085.8 KiB\n",
      "23/10/08 01:57:08 WARN DAGScheduler: Broadcasting large task binary with size 1224.0 KiB\n",
      "23/10/08 01:58:01 WARN DAGScheduler: Broadcasting large task binary with size 1003.6 KiB\n",
      "23/10/08 01:58:01 WARN DAGScheduler: Broadcasting large task binary with size 1207.9 KiB\n",
      "23/10/08 01:58:01 WARN DAGScheduler: Broadcasting large task binary with size 1417.3 KiB\n",
      "23/10/08 01:58:01 WARN DAGScheduler: Broadcasting large task binary with size 1624.9 KiB\n",
      "23/10/08 01:58:02 WARN DAGScheduler: Broadcasting large task binary with size 1808.7 KiB\n",
      "23/10/08 01:58:04 WARN DAGScheduler: Broadcasting large task binary with size 1141.7 KiB\n",
      "23/10/08 01:58:04 WARN DAGScheduler: Broadcasting large task binary with size 1348.8 KiB\n",
      "23/10/08 01:58:04 WARN DAGScheduler: Broadcasting large task binary with size 1550.3 KiB\n",
      "23/10/08 01:58:05 WARN DAGScheduler: Broadcasting large task binary with size 1738.6 KiB\n",
      "23/10/08 01:58:07 WARN DAGScheduler: Broadcasting large task binary with size 1052.1 KiB\n",
      "23/10/08 01:58:07 WARN DAGScheduler: Broadcasting large task binary with size 1241.0 KiB\n",
      "23/10/08 01:58:08 WARN DAGScheduler: Broadcasting large task binary with size 1436.5 KiB\n",
      "23/10/08 01:58:08 WARN DAGScheduler: Broadcasting large task binary with size 1630.4 KiB\n",
      "23/10/08 01:58:10 WARN DAGScheduler: Broadcasting large task binary with size 1134.5 KiB\n",
      "23/10/08 01:58:10 WARN DAGScheduler: Broadcasting large task binary with size 1317.6 KiB\n",
      "23/10/08 01:58:11 WARN DAGScheduler: Broadcasting large task binary with size 1500.8 KiB\n",
      "23/10/08 01:58:13 WARN DAGScheduler: Broadcasting large task binary with size 1025.7 KiB\n",
      "23/10/08 01:58:13 WARN DAGScheduler: Broadcasting large task binary with size 1213.6 KiB\n",
      "23/10/08 01:58:14 WARN DAGScheduler: Broadcasting large task binary with size 1398.2 KiB\n",
      "23/10/08 01:58:14 WARN DAGScheduler: Broadcasting large task binary with size 1584.3 KiB\n",
      "23/10/08 01:58:17 WARN DAGScheduler: Broadcasting large task binary with size 1096.2 KiB\n",
      "23/10/08 01:58:17 WARN DAGScheduler: Broadcasting large task binary with size 1272.3 KiB\n",
      "23/10/08 01:58:17 WARN DAGScheduler: Broadcasting large task binary with size 1452.4 KiB\n",
      "23/10/08 01:58:20 WARN DAGScheduler: Broadcasting large task binary with size 1148.3 KiB\n",
      "23/10/08 01:58:20 WARN DAGScheduler: Broadcasting large task binary with size 1326.5 KiB\n",
      "23/10/08 01:58:21 WARN DAGScheduler: Broadcasting large task binary with size 1500.6 KiB\n",
      "23/10/08 01:58:23 WARN DAGScheduler: Broadcasting large task binary with size 1021.8 KiB\n",
      "23/10/08 01:58:24 WARN DAGScheduler: Broadcasting large task binary with size 1181.4 KiB\n",
      "23/10/08 01:58:24 WARN DAGScheduler: Broadcasting large task binary with size 1343.4 KiB\n",
      "23/10/08 01:58:27 WARN DAGScheduler: Broadcasting large task binary with size 1128.1 KiB\n",
      "23/10/08 01:58:27 WARN DAGScheduler: Broadcasting large task binary with size 1297.1 KiB\n",
      "23/10/08 01:58:28 WARN DAGScheduler: Broadcasting large task binary with size 1468.8 KiB\n",
      "23/10/08 01:58:31 WARN DAGScheduler: Broadcasting large task binary with size 1111.0 KiB\n",
      "23/10/08 01:58:31 WARN DAGScheduler: Broadcasting large task binary with size 1255.3 KiB\n",
      "23/10/08 01:59:24 WARN DAGScheduler: Broadcasting large task binary with size 1204.1 KiB\n",
      "23/10/08 01:59:24 WARN DAGScheduler: Broadcasting large task binary with size 1417.5 KiB\n",
      "23/10/08 01:59:24 WARN DAGScheduler: Broadcasting large task binary with size 1622.3 KiB\n",
      "23/10/08 01:59:25 WARN DAGScheduler: Broadcasting large task binary with size 1802.2 KiB\n",
      "23/10/08 01:59:27 WARN DAGScheduler: Broadcasting large task binary with size 1108.0 KiB\n",
      "23/10/08 01:59:27 WARN DAGScheduler: Broadcasting large task binary with size 1314.8 KiB\n",
      "23/10/08 01:59:27 WARN DAGScheduler: Broadcasting large task binary with size 1521.1 KiB\n",
      "23/10/08 01:59:27 WARN DAGScheduler: Broadcasting large task binary with size 1709.8 KiB\n",
      "23/10/08 01:59:30 WARN DAGScheduler: Broadcasting large task binary with size 1134.0 KiB\n",
      "23/10/08 01:59:30 WARN DAGScheduler: Broadcasting large task binary with size 1346.6 KiB\n",
      "23/10/08 01:59:30 WARN DAGScheduler: Broadcasting large task binary with size 1549.0 KiB\n",
      "23/10/08 01:59:31 WARN DAGScheduler: Broadcasting large task binary with size 1747.5 KiB\n",
      "23/10/08 01:59:31 WARN DAGScheduler: Broadcasting large task binary with size 1002.2 KiB\n",
      "23/10/08 01:59:33 WARN DAGScheduler: Broadcasting large task binary with size 1185.7 KiB\n",
      "23/10/08 01:59:33 WARN DAGScheduler: Broadcasting large task binary with size 1381.4 KiB\n",
      "23/10/08 01:59:33 WARN DAGScheduler: Broadcasting large task binary with size 1580.1 KiB\n",
      "23/10/08 01:59:36 WARN DAGScheduler: Broadcasting large task binary with size 1038.9 KiB\n",
      "23/10/08 01:59:36 WARN DAGScheduler: Broadcasting large task binary with size 1223.8 KiB\n",
      "23/10/08 01:59:36 WARN DAGScheduler: Broadcasting large task binary with size 1412.5 KiB\n",
      "23/10/08 01:59:37 WARN DAGScheduler: Broadcasting large task binary with size 1599.4 KiB\n",
      "23/10/08 01:59:39 WARN DAGScheduler: Broadcasting large task binary with size 1071.1 KiB\n",
      "23/10/08 01:59:40 WARN DAGScheduler: Broadcasting large task binary with size 1240.4 KiB\n",
      "23/10/08 01:59:40 WARN DAGScheduler: Broadcasting large task binary with size 1417.6 KiB\n",
      "23/10/08 01:59:43 WARN DAGScheduler: Broadcasting large task binary with size 1147.9 KiB\n",
      "23/10/08 01:59:43 WARN DAGScheduler: Broadcasting large task binary with size 1334.8 KiB\n",
      "23/10/08 01:59:43 WARN DAGScheduler: Broadcasting large task binary with size 1511.1 KiB\n",
      "23/10/08 01:59:46 WARN DAGScheduler: Broadcasting large task binary with size 1167.0 KiB\n"
     ]
    },
    {
     "name": "stderr",
     "output_type": "stream",
     "text": [
      "23/10/08 01:59:47 WARN DAGScheduler: Broadcasting large task binary with size 1343.5 KiB\n",
      "23/10/08 01:59:50 WARN DAGScheduler: Broadcasting large task binary with size 1089.8 KiB\n",
      "23/10/08 01:59:50 WARN DAGScheduler: Broadcasting large task binary with size 1256.5 KiB\n",
      "23/10/08 01:59:50 WARN DAGScheduler: Broadcasting large task binary with size 1423.7 KiB\n",
      "23/10/08 01:59:54 WARN DAGScheduler: Broadcasting large task binary with size 1076.7 KiB\n",
      "23/10/08 01:59:54 WARN DAGScheduler: Broadcasting large task binary with size 1220.5 KiB\n",
      "[Stage 6471:>                                                       (0 + 1) / 1]\r"
     ]
    },
    {
     "name": "stdout",
     "output_type": "stream",
     "text": [
      "Best Model Accuracy:  0.7212621359223301\n",
      "Best Max Depth:  6\n",
      "Best Max Bins:  16\n",
      "Best Impurity:  gini\n"
     ]
    },
    {
     "name": "stderr",
     "output_type": "stream",
     "text": [
      "\r",
      "                                                                                \r"
     ]
    }
   ],
   "source": [
    "# Decision Tree Option2 (70/30):\n",
    "from pyspark.sql import SparkSession\n",
    "from pyspark.ml.feature import StringIndexer, VectorAssembler, StandardScaler\n",
    "from pyspark.ml.classification import DecisionTreeClassifier\n",
    "from pyspark.ml.evaluation import MulticlassClassificationEvaluator\n",
    "from pyspark.ml.tuning import CrossValidator, ParamGridBuilder\n",
    "\n",
    "# Initialize Spark session\n",
    "spark = SparkSession.builder.appName(\"CardioAnalysis\").getOrCreate()\n",
    "\n",
    "# Load the dataset\n",
    "data = spark.read.csv('redu4.csv', header=True, inferSchema=True)\n",
    "\n",
    "# Prepare the data\n",
    "feature_columns = ['age', 'gender', 'ap_hi', 'ap_lo', 'cholesterol', 'glucose', 'smoke', 'alcohol', 'active', 'BMI']\n",
    "assembler = VectorAssembler(inputCols=feature_columns, outputCol=\"assembled_features\")\n",
    "data = assembler.transform(data)\n",
    "\n",
    "# Scale the features\n",
    "scaler = StandardScaler(inputCol=\"assembled_features\", outputCol=\"features\", withStd=True, withMean=True)\n",
    "scalerModel = scaler.fit(data)\n",
    "data = scalerModel.transform(data)\n",
    "\n",
    "# Convert 'cardio' column to an index\n",
    "labelIndexer = StringIndexer(inputCol=\"cardio\", outputCol=\"indexedLabel\").fit(data)\n",
    "data = labelIndexer.transform(data)\n",
    "\n",
    "# Split the data\n",
    "train_data, test_data = data.randomSplit([0.7, 0.3])\n",
    "\n",
    "# Decision Tree setup\n",
    "dt = DecisionTreeClassifier(labelCol=\"indexedLabel\", featuresCol=\"features\")\n",
    "\n",
    "# Expanded Grid of parameters\n",
    "paramGrid = ParamGridBuilder() \\\n",
    "    .addGrid(dt.maxDepth, [4, 5, 6, 10, 15, 20]) \\\n",
    "    .addGrid(dt.maxBins, [16, 32, 64, 128, 256]) \\\n",
    "    .addGrid(dt.impurity, ['gini', 'entropy']) \\\n",
    "    .build()\n",
    "\n",
    "# Cross validation\n",
    "crossval = CrossValidator(estimator=dt,\n",
    "                          estimatorParamMaps=paramGrid,\n",
    "                          evaluator=MulticlassClassificationEvaluator(labelCol=\"indexedLabel\", predictionCol=\"prediction\", metricName=\"accuracy\"),\n",
    "                          numFolds=3)\n",
    "\n",
    "# Fit the model\n",
    "cvModel = crossval.fit(train_data)\n",
    "\n",
    "# Make predictions\n",
    "predictions = cvModel.transform(test_data)\n",
    "\n",
    "# Evaluate the best model\n",
    "evaluator = MulticlassClassificationEvaluator(labelCol=\"indexedLabel\", predictionCol=\"prediction\", metricName=\"accuracy\")\n",
    "accuracy = evaluator.evaluate(predictions)\n",
    "print(\"Best Model Accuracy: \", accuracy)\n",
    "\n",
    "# Get and print the optimal parameters\n",
    "best_dt_model = cvModel.bestModel\n",
    "print(\"Best Max Depth: \", best_dt_model.getMaxDepth())\n",
    "print(\"Best Max Bins: \", best_dt_model.getMaxBins())\n",
    "print(\"Best Impurity: \", best_dt_model.getImpurity())\n"
   ]
  },
  {
   "cell_type": "code",
   "execution_count": 14,
   "id": "14567f68",
   "metadata": {},
   "outputs": [
    {
     "name": "stderr",
     "output_type": "stream",
     "text": [
      "23/10/08 02:50:22 WARN DAGScheduler: Broadcasting large task binary with size 1064.9 KiB\n",
      "23/10/08 02:50:22 WARN DAGScheduler: Broadcasting large task binary with size 1301.8 KiB\n",
      "23/10/08 02:50:23 WARN DAGScheduler: Broadcasting large task binary with size 1549.4 KiB\n",
      "23/10/08 02:50:23 WARN DAGScheduler: Broadcasting large task binary with size 1790.4 KiB\n",
      "23/10/08 02:50:23 WARN DAGScheduler: Broadcasting large task binary with size 2008.4 KiB\n",
      "23/10/08 02:50:24 WARN DAGScheduler: Broadcasting large task binary with size 1046.3 KiB\n",
      "23/10/08 02:50:26 WARN DAGScheduler: Broadcasting large task binary with size 1182.2 KiB\n",
      "23/10/08 02:50:26 WARN DAGScheduler: Broadcasting large task binary with size 1415.9 KiB\n",
      "23/10/08 02:50:26 WARN DAGScheduler: Broadcasting large task binary with size 1656.2 KiB\n",
      "23/10/08 02:50:27 WARN DAGScheduler: Broadcasting large task binary with size 1886.6 KiB\n",
      "23/10/08 02:50:27 WARN DAGScheduler: Broadcasting large task binary with size 1009.1 KiB\n",
      "23/10/08 02:50:29 WARN DAGScheduler: Broadcasting large task binary with size 1145.4 KiB\n",
      "23/10/08 02:50:29 WARN DAGScheduler: Broadcasting large task binary with size 1374.7 KiB\n",
      "23/10/08 02:50:30 WARN DAGScheduler: Broadcasting large task binary with size 1615.4 KiB\n",
      "23/10/08 02:50:30 WARN DAGScheduler: Broadcasting large task binary with size 1854.3 KiB\n",
      "23/10/08 02:50:30 WARN DAGScheduler: Broadcasting large task binary with size 1069.1 KiB\n",
      "23/10/08 02:50:32 WARN DAGScheduler: Broadcasting large task binary with size 1064.3 KiB\n",
      "23/10/08 02:50:33 WARN DAGScheduler: Broadcasting large task binary with size 1278.4 KiB\n",
      "23/10/08 02:50:33 WARN DAGScheduler: Broadcasting large task binary with size 1495.3 KiB\n",
      "23/10/08 02:50:33 WARN DAGScheduler: Broadcasting large task binary with size 1716.3 KiB\n",
      "23/10/08 02:50:34 WARN DAGScheduler: Broadcasting large task binary with size 1011.1 KiB\n",
      "23/10/08 02:50:36 WARN DAGScheduler: Broadcasting large task binary with size 1064.1 KiB\n",
      "23/10/08 02:50:36 WARN DAGScheduler: Broadcasting large task binary with size 1270.5 KiB\n",
      "23/10/08 02:50:36 WARN DAGScheduler: Broadcasting large task binary with size 1482.4 KiB\n",
      "23/10/08 02:50:37 WARN DAGScheduler: Broadcasting large task binary with size 1703.3 KiB\n",
      "23/10/08 02:50:37 WARN DAGScheduler: Broadcasting large task binary with size 1035.0 KiB\n",
      "23/10/08 02:50:40 WARN DAGScheduler: Broadcasting large task binary with size 1162.6 KiB\n",
      "23/10/08 02:50:40 WARN DAGScheduler: Broadcasting large task binary with size 1364.2 KiB\n",
      "23/10/08 02:50:40 WARN DAGScheduler: Broadcasting large task binary with size 1569.7 KiB\n",
      "23/10/08 02:50:43 WARN DAGScheduler: Broadcasting large task binary with size 1000.2 KiB\n",
      "23/10/08 02:50:43 WARN DAGScheduler: Broadcasting large task binary with size 1186.6 KiB\n",
      "23/10/08 02:50:43 WARN DAGScheduler: Broadcasting large task binary with size 1379.6 KiB\n",
      "23/10/08 02:50:44 WARN DAGScheduler: Broadcasting large task binary with size 1576.6 KiB\n",
      "23/10/08 02:50:47 WARN DAGScheduler: Broadcasting large task binary with size 1087.3 KiB\n",
      "23/10/08 02:50:47 WARN DAGScheduler: Broadcasting large task binary with size 1263.6 KiB\n",
      "23/10/08 02:50:47 WARN DAGScheduler: Broadcasting large task binary with size 1443.0 KiB\n",
      "23/10/08 02:50:51 WARN DAGScheduler: Broadcasting large task binary with size 1141.5 KiB\n",
      "23/10/08 02:50:51 WARN DAGScheduler: Broadcasting large task binary with size 1323.2 KiB\n",
      "23/10/08 02:50:51 WARN DAGScheduler: Broadcasting large task binary with size 1510.6 KiB\n",
      "23/10/08 02:50:55 WARN DAGScheduler: Broadcasting large task binary with size 1032.7 KiB\n",
      "23/10/08 02:50:55 WARN DAGScheduler: Broadcasting large task binary with size 1194.6 KiB\n",
      "23/10/08 02:50:55 WARN DAGScheduler: Broadcasting large task binary with size 1358.7 KiB\n",
      "23/10/08 02:51:50 WARN DAGScheduler: Broadcasting large task binary with size 1018.8 KiB\n",
      "23/10/08 02:51:50 WARN DAGScheduler: Broadcasting large task binary with size 1242.6 KiB\n",
      "23/10/08 02:51:50 WARN DAGScheduler: Broadcasting large task binary with size 1475.9 KiB\n",
      "23/10/08 02:51:51 WARN DAGScheduler: Broadcasting large task binary with size 1703.9 KiB\n",
      "23/10/08 02:51:51 WARN DAGScheduler: Broadcasting large task binary with size 1922.8 KiB\n",
      "23/10/08 02:51:53 WARN DAGScheduler: Broadcasting large task binary with size 1142.7 KiB\n",
      "23/10/08 02:51:53 WARN DAGScheduler: Broadcasting large task binary with size 1363.0 KiB\n",
      "23/10/08 02:51:54 WARN DAGScheduler: Broadcasting large task binary with size 1588.4 KiB\n",
      "23/10/08 02:51:54 WARN DAGScheduler: Broadcasting large task binary with size 1806.0 KiB\n",
      "23/10/08 02:51:56 WARN DAGScheduler: Broadcasting large task binary with size 1126.7 KiB\n",
      "23/10/08 02:51:56 WARN DAGScheduler: Broadcasting large task binary with size 1363.3 KiB\n",
      "23/10/08 02:51:57 WARN DAGScheduler: Broadcasting large task binary with size 1609.4 KiB\n",
      "23/10/08 02:51:57 WARN DAGScheduler: Broadcasting large task binary with size 1851.3 KiB\n",
      "23/10/08 02:51:57 WARN DAGScheduler: Broadcasting large task binary with size 1069.5 KiB\n",
      "23/10/08 02:51:59 WARN DAGScheduler: Broadcasting large task binary with size 1002.4 KiB\n",
      "23/10/08 02:52:00 WARN DAGScheduler: Broadcasting large task binary with size 1204.2 KiB\n",
      "23/10/08 02:52:00 WARN DAGScheduler: Broadcasting large task binary with size 1417.3 KiB\n",
      "23/10/08 02:52:00 WARN DAGScheduler: Broadcasting large task binary with size 1634.6 KiB\n",
      "23/10/08 02:52:03 WARN DAGScheduler: Broadcasting large task binary with size 1056.0 KiB\n",
      "23/10/08 02:52:03 WARN DAGScheduler: Broadcasting large task binary with size 1264.1 KiB\n",
      "23/10/08 02:52:04 WARN DAGScheduler: Broadcasting large task binary with size 1479.7 KiB\n",
      "23/10/08 02:52:04 WARN DAGScheduler: Broadcasting large task binary with size 1694.9 KiB\n",
      "23/10/08 02:52:05 WARN DAGScheduler: Broadcasting large task binary with size 1024.3 KiB\n",
      "23/10/08 02:52:07 WARN DAGScheduler: Broadcasting large task binary with size 1137.4 KiB\n",
      "23/10/08 02:52:07 WARN DAGScheduler: Broadcasting large task binary with size 1326.8 KiB\n",
      "23/10/08 02:52:08 WARN DAGScheduler: Broadcasting large task binary with size 1520.9 KiB\n",
      "23/10/08 02:52:10 WARN DAGScheduler: Broadcasting large task binary with size 1020.3 KiB\n",
      "23/10/08 02:52:10 WARN DAGScheduler: Broadcasting large task binary with size 1228.8 KiB\n",
      "23/10/08 02:52:11 WARN DAGScheduler: Broadcasting large task binary with size 1448.6 KiB\n",
      "23/10/08 02:52:11 WARN DAGScheduler: Broadcasting large task binary with size 1664.6 KiB\n",
      "23/10/08 02:52:12 WARN DAGScheduler: Broadcasting large task binary with size 1040.8 KiB\n",
      "23/10/08 02:52:14 WARN DAGScheduler: Broadcasting large task binary with size 1027.8 KiB\n",
      "23/10/08 02:52:14 WARN DAGScheduler: Broadcasting large task binary with size 1198.1 KiB\n",
      "23/10/08 02:52:15 WARN DAGScheduler: Broadcasting large task binary with size 1371.6 KiB\n",
      "23/10/08 02:52:18 WARN DAGScheduler: Broadcasting large task binary with size 1158.2 KiB\n",
      "23/10/08 02:52:18 WARN DAGScheduler: Broadcasting large task binary with size 1356.0 KiB\n",
      "23/10/08 02:52:19 WARN DAGScheduler: Broadcasting large task binary with size 1552.8 KiB\n",
      "23/10/08 02:52:22 WARN DAGScheduler: Broadcasting large task binary with size 1137.6 KiB\n",
      "23/10/08 02:52:23 WARN DAGScheduler: Broadcasting large task binary with size 1305.8 KiB\n",
      "23/10/08 02:53:18 WARN DAGScheduler: Broadcasting large task binary with size 1033.6 KiB\n",
      "23/10/08 02:53:18 WARN DAGScheduler: Broadcasting large task binary with size 1260.5 KiB\n",
      "23/10/08 02:53:18 WARN DAGScheduler: Broadcasting large task binary with size 1483.0 KiB\n",
      "23/10/08 02:53:18 WARN DAGScheduler: Broadcasting large task binary with size 1692.5 KiB\n",
      "23/10/08 02:53:19 WARN DAGScheduler: Broadcasting large task binary with size 1890.3 KiB\n",
      "23/10/08 02:53:21 WARN DAGScheduler: Broadcasting large task binary with size 1168.2 KiB\n",
      "23/10/08 02:53:21 WARN DAGScheduler: Broadcasting large task binary with size 1384.8 KiB\n",
      "23/10/08 02:53:21 WARN DAGScheduler: Broadcasting large task binary with size 1601.0 KiB\n",
      "23/10/08 02:53:22 WARN DAGScheduler: Broadcasting large task binary with size 1809.9 KiB\n",
      "23/10/08 02:53:24 WARN DAGScheduler: Broadcasting large task binary with size 1165.0 KiB\n",
      "23/10/08 02:53:24 WARN DAGScheduler: Broadcasting large task binary with size 1387.7 KiB\n",
      "23/10/08 02:53:25 WARN DAGScheduler: Broadcasting large task binary with size 1611.3 KiB\n"
     ]
    },
    {
     "name": "stderr",
     "output_type": "stream",
     "text": [
      "23/10/08 02:53:25 WARN DAGScheduler: Broadcasting large task binary with size 1826.6 KiB\n",
      "23/10/08 02:53:25 WARN DAGScheduler: Broadcasting large task binary with size 1025.5 KiB\n",
      "23/10/08 02:53:27 WARN DAGScheduler: Broadcasting large task binary with size 1038.5 KiB\n",
      "23/10/08 02:53:28 WARN DAGScheduler: Broadcasting large task binary with size 1241.3 KiB\n",
      "23/10/08 02:53:28 WARN DAGScheduler: Broadcasting large task binary with size 1451.4 KiB\n",
      "23/10/08 02:53:28 WARN DAGScheduler: Broadcasting large task binary with size 1665.0 KiB\n",
      "23/10/08 02:53:31 WARN DAGScheduler: Broadcasting large task binary with size 1109.5 KiB\n",
      "23/10/08 02:53:31 WARN DAGScheduler: Broadcasting large task binary with size 1314.6 KiB\n",
      "23/10/08 02:53:31 WARN DAGScheduler: Broadcasting large task binary with size 1525.8 KiB\n",
      "23/10/08 02:53:32 WARN DAGScheduler: Broadcasting large task binary with size 1734.7 KiB\n",
      "23/10/08 02:53:32 WARN DAGScheduler: Broadcasting large task binary with size 1043.3 KiB\n",
      "23/10/08 02:53:34 WARN DAGScheduler: Broadcasting large task binary with size 1140.7 KiB\n",
      "23/10/08 02:53:35 WARN DAGScheduler: Broadcasting large task binary with size 1331.6 KiB\n",
      "23/10/08 02:53:35 WARN DAGScheduler: Broadcasting large task binary with size 1528.8 KiB\n",
      "23/10/08 02:53:38 WARN DAGScheduler: Broadcasting large task binary with size 1086.2 KiB\n",
      "23/10/08 02:53:38 WARN DAGScheduler: Broadcasting large task binary with size 1274.8 KiB\n",
      "23/10/08 02:53:38 WARN DAGScheduler: Broadcasting large task binary with size 1470.7 KiB\n",
      "23/10/08 02:53:39 WARN DAGScheduler: Broadcasting large task binary with size 1665.2 KiB\n",
      "23/10/08 02:53:39 WARN DAGScheduler: Broadcasting large task binary with size 1031.1 KiB\n",
      "23/10/08 02:53:41 WARN DAGScheduler: Broadcasting large task binary with size 1089.5 KiB\n",
      "23/10/08 02:53:42 WARN DAGScheduler: Broadcasting large task binary with size 1258.1 KiB\n",
      "23/10/08 02:53:42 WARN DAGScheduler: Broadcasting large task binary with size 1424.3 KiB\n",
      "23/10/08 02:53:45 WARN DAGScheduler: Broadcasting large task binary with size 1041.5 KiB\n",
      "23/10/08 02:53:45 WARN DAGScheduler: Broadcasting large task binary with size 1214.0 KiB\n",
      "23/10/08 02:53:46 WARN DAGScheduler: Broadcasting large task binary with size 1392.2 KiB\n",
      "23/10/08 02:53:46 WARN DAGScheduler: Broadcasting large task binary with size 1571.2 KiB\n",
      "23/10/08 02:53:47 WARN DAGScheduler: Broadcasting large task binary with size 1009.6 KiB\n",
      "23/10/08 02:53:49 WARN DAGScheduler: Broadcasting large task binary with size 1036.6 KiB\n",
      "23/10/08 02:53:50 WARN DAGScheduler: Broadcasting large task binary with size 1196.1 KiB\n",
      "23/10/08 02:53:50 WARN DAGScheduler: Broadcasting large task binary with size 1354.6 KiB\n",
      "[Stage 21953:>                                                      (0 + 1) / 1]\r"
     ]
    },
    {
     "name": "stdout",
     "output_type": "stream",
     "text": [
      "Best Model Accuracy:  0.7237935559119405\n",
      "Best Max Depth:  6\n",
      "Best Max Bins:  32\n",
      "Best Impurity:  gini\n"
     ]
    },
    {
     "name": "stderr",
     "output_type": "stream",
     "text": [
      "\r",
      "                                                                                \r"
     ]
    }
   ],
   "source": [
    "# Decision Tree Option2 (80/20):\n",
    "from pyspark.sql import SparkSession\n",
    "from pyspark.ml.feature import StringIndexer, VectorAssembler, StandardScaler\n",
    "from pyspark.ml.classification import DecisionTreeClassifier\n",
    "from pyspark.ml.evaluation import MulticlassClassificationEvaluator\n",
    "from pyspark.ml.tuning import CrossValidator, ParamGridBuilder\n",
    "\n",
    "# Initialize Spark session\n",
    "spark = SparkSession.builder.appName(\"CardioAnalysis\").getOrCreate()\n",
    "\n",
    "# Load the dataset\n",
    "data = spark.read.csv('redu4.csv', header=True, inferSchema=True)\n",
    "\n",
    "# Prepare the data\n",
    "feature_columns = ['age', 'gender', 'ap_hi', 'ap_lo', 'cholesterol', 'glucose', 'smoke', 'alcohol', 'active', 'BMI']\n",
    "assembler = VectorAssembler(inputCols=feature_columns, outputCol=\"assembled_features\")\n",
    "data = assembler.transform(data)\n",
    "\n",
    "# Scale the features\n",
    "scaler = StandardScaler(inputCol=\"assembled_features\", outputCol=\"features\", withStd=True, withMean=True)\n",
    "scalerModel = scaler.fit(data)\n",
    "data = scalerModel.transform(data)\n",
    "\n",
    "# Convert 'cardio' column to an index\n",
    "labelIndexer = StringIndexer(inputCol=\"cardio\", outputCol=\"indexedLabel\").fit(data)\n",
    "data = labelIndexer.transform(data)\n",
    "\n",
    "# Split the data\n",
    "train_data, test_data = data.randomSplit([0.8, 0.2])\n",
    "\n",
    "# Decision Tree setup\n",
    "dt = DecisionTreeClassifier(labelCol=\"indexedLabel\", featuresCol=\"features\")\n",
    "\n",
    "# Expanded Grid of parameters\n",
    "paramGrid = ParamGridBuilder() \\\n",
    "    .addGrid(dt.maxDepth, [4, 5, 6, 10, 15, 20]) \\\n",
    "    .addGrid(dt.maxBins, [16, 32, 64, 128, 256]) \\\n",
    "    .addGrid(dt.impurity, ['gini', 'entropy']) \\\n",
    "    .build()\n",
    "\n",
    "# Cross validation\n",
    "crossval = CrossValidator(estimator=dt,\n",
    "                          estimatorParamMaps=paramGrid,\n",
    "                          evaluator=MulticlassClassificationEvaluator(labelCol=\"indexedLabel\", predictionCol=\"prediction\", metricName=\"accuracy\"),\n",
    "                          numFolds=3)\n",
    "\n",
    "# Fit the model\n",
    "cvModel = crossval.fit(train_data)\n",
    "\n",
    "# Make predictions\n",
    "predictions = cvModel.transform(test_data)\n",
    "\n",
    "# Evaluate the best model\n",
    "evaluator = MulticlassClassificationEvaluator(labelCol=\"indexedLabel\", predictionCol=\"prediction\", metricName=\"accuracy\")\n",
    "accuracy = evaluator.evaluate(predictions)\n",
    "print(\"Best Model Accuracy: \", accuracy)\n",
    "\n",
    "# Get and print the optimal parameters\n",
    "best_dt_model = cvModel.bestModel\n",
    "print(\"Best Max Depth: \", best_dt_model.getMaxDepth())\n",
    "print(\"Best Max Bins: \", best_dt_model.getMaxBins())\n",
    "print(\"Best Impurity: \", best_dt_model.getImpurity())\n"
   ]
  },
  {
   "cell_type": "code",
   "execution_count": 10,
   "id": "aab2eb68",
   "metadata": {},
   "outputs": [
    {
     "name": "stderr",
     "output_type": "stream",
     "text": [
      "                                                                                \r"
     ]
    },
    {
     "name": "stdout",
     "output_type": "stream",
     "text": [
      "Best Model Accuracy = 0.7879547304361257\n",
      "Best Model Parameters:\n",
      "aggregationDepth: 2\n",
      "elasticNetParam: 0.0\n",
      "family: auto\n",
      "featuresCol: features\n",
      "fitIntercept: True\n",
      "labelCol: indexedLabel\n",
      "maxBlockSizeInMB: 0.0\n",
      "maxIter: 100\n",
      "predictionCol: prediction\n",
      "probabilityCol: probability\n",
      "rawPredictionCol: rawPrediction\n",
      "regParam: 0.01\n",
      "standardization: True\n",
      "threshold: 0.5\n",
      "tol: 1e-06\n"
     ]
    }
   ],
   "source": [
    "# Logistic Regression (70/30):\n",
    "from pyspark.sql import SparkSession\n",
    "from pyspark.ml.feature import StringIndexer, VectorAssembler\n",
    "from pyspark.ml.classification import LogisticRegression\n",
    "from pyspark.ml.evaluation import BinaryClassificationEvaluator\n",
    "from pyspark.ml.tuning import CrossValidator, ParamGridBuilder\n",
    "\n",
    "# Initialize Spark Session\n",
    "spark = SparkSession.builder.appName(\"LogisticRegressionTuning\").getOrCreate()\n",
    "\n",
    "# Load and prepare the data\n",
    "data = spark.read.csv('redu4.csv', header=True, inferSchema=True)\n",
    "\n",
    "# Convert features using VectorAssembler\n",
    "feature_columns = ['age', 'gender', 'ap_hi', 'ap_lo', 'cholesterol', 'glucose', 'smoke', 'alcohol', 'active', 'BMI']\n",
    "assembler = VectorAssembler(inputCols=feature_columns, outputCol=\"features\")\n",
    "data = assembler.transform(data)\n",
    "\n",
    "# Convert 'cardio' column to a numerical index\n",
    "labelIndexer = StringIndexer(inputCol=\"cardio\", outputCol=\"indexedLabel\").fit(data)\n",
    "data = labelIndexer.transform(data)\n",
    "\n",
    "# Split data for training and testing\n",
    "train_data, test_data = data.randomSplit([0.7, 0.3])\n",
    "\n",
    "# Logistic Regression setup\n",
    "lr = LogisticRegression(labelCol=\"indexedLabel\", featuresCol=\"features\")\n",
    "\n",
    "# We will use a ParamGridBuilder to construct a grid of parameters to search over.\n",
    "paramGrid = ParamGridBuilder() \\\n",
    "    .addGrid(lr.regParam, [0.1, 0.01]) \\\n",
    "    .addGrid(lr.fitIntercept, [True, False]) \\\n",
    "    .addGrid(lr.elasticNetParam, [0.0, 0.5, 1.0]) \\\n",
    "    .build()\n",
    "\n",
    "# Binary classification evaluator\n",
    "evaluator = BinaryClassificationEvaluator(labelCol=\"indexedLabel\")\n",
    "\n",
    "# Cross-validation\n",
    "crossval = CrossValidator(estimator=lr,\n",
    "                          estimatorParamMaps=paramGrid,\n",
    "                          evaluator=evaluator,\n",
    "                          numFolds=5)  # Use 5-fold CrossValidation\n",
    "\n",
    "# Run cross-validation, and choose the best set of parameters.\n",
    "cvModel = crossval.fit(train_data)\n",
    "\n",
    "# Making predictions on test data\n",
    "predictions = cvModel.transform(test_data)\n",
    "\n",
    "# Model Evaluation\n",
    "accuracy = evaluator.evaluate(predictions)\n",
    "print(f\"Best Model Accuracy = {accuracy}\")\n",
    "print(\"Best Model Parameters:\")\n",
    "best_params = cvModel.bestModel.extractParamMap()\n",
    "for p in best_params:\n",
    "    print(f\"{p.name}: {best_params[p]}\")"
   ]
  },
  {
   "cell_type": "code",
   "execution_count": 12,
   "id": "5476c8a9",
   "metadata": {
    "scrolled": true
   },
   "outputs": [
    {
     "name": "stderr",
     "output_type": "stream",
     "text": [
      "                                                                                \r"
     ]
    },
    {
     "name": "stdout",
     "output_type": "stream",
     "text": [
      "Best Model Accuracy = 0.7885613927821966\n",
      "Best Model Parameters:\n",
      "aggregationDepth: 2\n",
      "elasticNetParam: 0.0\n",
      "family: auto\n",
      "featuresCol: features\n",
      "fitIntercept: True\n",
      "labelCol: indexedLabel\n",
      "maxBlockSizeInMB: 0.0\n",
      "maxIter: 100\n",
      "predictionCol: prediction\n",
      "probabilityCol: probability\n",
      "rawPredictionCol: rawPrediction\n",
      "regParam: 0.01\n",
      "standardization: True\n",
      "threshold: 0.5\n",
      "tol: 1e-06\n"
     ]
    }
   ],
   "source": [
    "# Logistic Regression (80/20):\n",
    "from pyspark.sql import SparkSession\n",
    "from pyspark.ml.feature import StringIndexer, VectorAssembler\n",
    "from pyspark.ml.classification import LogisticRegression\n",
    "from pyspark.ml.evaluation import BinaryClassificationEvaluator\n",
    "from pyspark.ml.tuning import CrossValidator, ParamGridBuilder\n",
    "\n",
    "# Initialize Spark Session\n",
    "spark = SparkSession.builder.appName(\"LogisticRegressionTuning\").getOrCreate()\n",
    "\n",
    "# Load and prepare the data\n",
    "data = spark.read.csv('redu4.csv', header=True, inferSchema=True)\n",
    "\n",
    "# Convert features using VectorAssembler\n",
    "feature_columns = ['age', 'gender', 'ap_hi', 'ap_lo', 'cholesterol', 'glucose', 'smoke', 'alcohol', 'active', 'BMI']\n",
    "assembler = VectorAssembler(inputCols=feature_columns, outputCol=\"features\")\n",
    "data = assembler.transform(data)\n",
    "\n",
    "# Convert 'cardio' column to a numerical index\n",
    "labelIndexer = StringIndexer(inputCol=\"cardio\", outputCol=\"indexedLabel\").fit(data)\n",
    "data = labelIndexer.transform(data)\n",
    "\n",
    "# Split data for training and testing\n",
    "train_data, test_data = data.randomSplit([0.8, 0.2])\n",
    "\n",
    "# Logistic Regression setup\n",
    "lr = LogisticRegression(labelCol=\"indexedLabel\", featuresCol=\"features\")\n",
    "\n",
    "# We will use a ParamGridBuilder to construct a grid of parameters to search over.\n",
    "paramGrid = ParamGridBuilder() \\\n",
    "    .addGrid(lr.regParam, [0.1, 0.01]) \\\n",
    "    .addGrid(lr.fitIntercept, [True, False]) \\\n",
    "    .addGrid(lr.elasticNetParam, [0.0, 0.5, 1.0]) \\\n",
    "    .build()\n",
    "\n",
    "# Binary classification evaluator\n",
    "evaluator = BinaryClassificationEvaluator(labelCol=\"indexedLabel\")\n",
    "\n",
    "# Cross-validation\n",
    "crossval = CrossValidator(estimator=lr,\n",
    "                          estimatorParamMaps=paramGrid,\n",
    "                          evaluator=evaluator,\n",
    "                          numFolds=5)  # Use 5-fold CrossValidation\n",
    "\n",
    "# Run cross-validation, and choose the best set of parameters.\n",
    "cvModel = crossval.fit(train_data)\n",
    "\n",
    "# Making predictions on test data\n",
    "predictions = cvModel.transform(test_data)\n",
    "\n",
    "# Model Evaluation\n",
    "accuracy = evaluator.evaluate(predictions)\n",
    "print(f\"Best Model Accuracy = {accuracy}\")\n",
    "print(\"Best Model Parameters:\")\n",
    "best_params = cvModel.bestModel.extractParamMap()\n",
    "for p in best_params:\n",
    "    print(f\"{p.name}: {best_params[p]}\")"
   ]
  },
  {
   "cell_type": "code",
   "execution_count": 24,
   "id": "b4d21820",
   "metadata": {},
   "outputs": [
    {
     "name": "stderr",
     "output_type": "stream",
     "text": [
      "                                                                                \r"
     ]
    },
    {
     "name": "stdout",
     "output_type": "stream",
     "text": [
      "Silhouette with squared euclidean distance = 0.2726335237218056\n"
     ]
    },
    {
     "name": "stderr",
     "output_type": "stream",
     "text": [
      "                                                                                \r"
     ]
    },
    {
     "data": {
      "image/png": "[encoded data removed]",
      "text/plain": [
       "<Figure size 864x432 with 1 Axes>"
      ]
     },
     "metadata": {
      "needs_background": "light"
     },
     "output_type": "display_data"
    }
   ],
   "source": [
    "from pyspark.sql import SparkSession\n",
    "from pyspark.ml.feature import VectorAssembler, StandardScaler\n",
    "from pyspark.ml.clustering import KMeans\n",
    "from pyspark.ml.evaluation import ClusteringEvaluator\n",
    "import matplotlib.pyplot as plt\n",
    "\n",
    "# Create Spark session\n",
    "spark = SparkSession.builder.appName(\"kmeans_clustering\").getOrCreate()\n",
    "\n",
    "# Load data into Spark DataFrame\n",
    "data = spark.read.csv('redu4.csv', header=True, inferSchema=True)\n",
    "\n",
    "# Assemble features with VectorAssembler\n",
    "features = ['age', 'ap_hi', 'ap_lo', 'cholesterol', 'glucose', 'smoke', 'alcohol', 'active', 'gender', 'BMI', 'cardio']\n",
    "assembler = VectorAssembler(inputCols=features, outputCol=\"features_vec\")\n",
    "data = assembler.transform(data)\n",
    "\n",
    "# Scale the features\n",
    "scaler = StandardScaler(inputCol=\"features_vec\", outputCol=\"scaled_features\")\n",
    "scaler_model = scaler.fit(data)\n",
    "data = scaler_model.transform(data)\n",
    "\n",
    "# K-means clustering\n",
    "n_clusters = 4\n",
    "kmeans = KMeans(featuresCol='scaled_features', k=n_clusters, predictionCol=\"prediction\")\n",
    "model = kmeans.fit(data)\n",
    "predictions = model.transform(data)\n",
    "\n",
    "# Evaluate clustering\n",
    "evaluator = ClusteringEvaluator(featuresCol=\"scaled_features\")\n",
    "silhouette = evaluator.evaluate(predictions)\n",
    "print(f\"Silhouette with squared euclidean distance = {silhouette}\")\n",
    "\n",
    "# Determine the optimal number of clusters using the Elbow Method\n",
    "cost = []\n",
    "for k in range(2, 10):  # example range\n",
    "    kmeans = KMeans(featuresCol='scaled_features', k=k, predictionCol=\"prediction\")\n",
    "    model = kmeans.fit(data)\n",
    "    predictions_temp = model.transform(data)\n",
    "    evaluator = ClusteringEvaluator(featuresCol=\"scaled_features\")\n",
    "    silhouette = evaluator.evaluate(predictions_temp)\n",
    "    cost.append(-silhouette)\n",
    "\n",
    "# Plotting the cost values to determine the elbow\n",
    "plt.figure(figsize=(12,6))\n",
    "plt.plot(range(2, 10), cost, marker='o', linestyle='--')\n",
    "plt.title('K-means Cost as a function of K')\n",
    "plt.xlabel('Number of Clusters')\n",
    "plt.ylabel('Silhouette Score (negative)')\n",
    "plt.show()\n"
   ]
  },
  {
   "cell_type": "code",
   "execution_count": 28,
   "id": "c6207aba",
   "metadata": {
    "scrolled": true
   },
   "outputs": [
    {
     "name": "stderr",
     "output_type": "stream",
     "text": [
      "                                                                                \r"
     ]
    },
    {
     "data": {
      "image/png": "[encoded data removed]",
      "text/plain": [
       "<Figure size 432x288 with 1 Axes>"
      ]
     },
     "metadata": {
      "needs_background": "light"
     },
     "output_type": "display_data"
    }
   ],
   "source": [
    "from pyspark.ml.clustering import KMeans\n",
    "from pyspark.ml.feature import VectorAssembler, StandardScaler\n",
    "\n",
    "# Check if \"data\" already has the \"features_vec\" column; if not, assemble the features\n",
    "if \"features_vec\" not in data.columns:\n",
    "    assembler = VectorAssembler(inputCols=features, outputCol=\"features_vec\")\n",
    "    data = assembler.transform(data)\n",
    "\n",
    "# If \"data\" doesn't have the \"scaled_features\" column, then perform feature scaling\n",
    "if \"scaled_features\" not in data.columns:\n",
    "    scaler = StandardScaler(inputCol=\"features_vec\", outputCol=\"scaled_features\")\n",
    "    scaler_model = scaler.fit(data)\n",
    "    data = scaler_model.transform(data)\n",
    "\n",
    "# Track the cost for each K value\n",
    "costs = []\n",
    "K_values = list(range(2, 10))  # You can adjust the range as needed\n",
    "for k in K_values:\n",
    "    kmeans = KMeans().setK(k).setFeaturesCol(\"scaled_features\").setPredictionCol(\"prediction\")\n",
    "    model = kmeans.fit(data)\n",
    "    cost = model.summary.trainingCost\n",
    "    costs.append(cost)\n",
    "\n",
    "# Plot the cost\n",
    "plt.plot(K_values, costs)\n",
    "plt.xlabel('K value')\n",
    "plt.ylabel('Cost (SSE)')\n",
    "plt.title('Cost as a function of K value')\n",
    "plt.show()\n"
   ]
  }
 ],
 "metadata": {
  "kernelspec": {
   "display_name": "Python 3 (ipykernel)",
   "language": "python",
   "name": "python3"
  },
  "language_info": {
   "codemirror_mode": {
    "name": "ipython",
    "version": 3
   },
   "file_extension": ".py",
   "mimetype": "text/x-python",
   "name": "python",
   "nbconvert_exporter": "python",
   "pygments_lexer": "ipython3",
   "version": "3.10.12"
  }
 },
 "nbformat": 4,
 "nbformat_minor": 5
}
